{
 "cells": [
  {
   "cell_type": "code",
   "execution_count": 1,
   "id": "e3f891b4",
   "metadata": {},
   "outputs": [],
   "source": [
    "import numpy as np"
   ]
  },
  {
   "cell_type": "markdown",
   "id": "2292827e",
   "metadata": {},
   "source": [
    "Time Estimation"
   ]
  },
  {
   "cell_type": "code",
   "execution_count": 2,
   "id": "349b204e",
   "metadata": {},
   "outputs": [],
   "source": [
    "A = 10000000"
   ]
  },
  {
   "cell_type": "code",
   "execution_count": 3,
   "id": "258b8866",
   "metadata": {},
   "outputs": [
    {
     "name": "stdout",
     "output_type": "stream",
     "text": [
      "CPU times: total: 0 ns\n",
      "Wall time: 12 ms\n"
     ]
    }
   ],
   "source": [
    "%%time\n",
    "arr = np.arange(A)\n",
    "arr *= arr"
   ]
  },
  {
   "cell_type": "code",
   "execution_count": 4,
   "id": "4821edef",
   "metadata": {},
   "outputs": [
    {
     "name": "stdout",
     "output_type": "stream",
     "text": [
      "CPU times: total: 0 ns\n",
      "Wall time: 21 ms\n"
     ]
    }
   ],
   "source": [
    "%%time\n",
    "arr1 = np.arange(A)\n",
    "arr1 = arr1 * arr1 "
   ]
  },
  {
   "cell_type": "code",
   "execution_count": 5,
   "id": "f8201881",
   "metadata": {},
   "outputs": [
    {
     "name": "stdout",
     "output_type": "stream",
     "text": [
      "CPU times: total: 531 ms\n",
      "Wall time: 1.16 s\n"
     ]
    }
   ],
   "source": [
    "%%time\n",
    "list1 = list(range(A))\n",
    "for i in range(A):\n",
    "    list1[i] = list1[i] * list1[i]"
   ]
  },
  {
   "cell_type": "markdown",
   "id": "c79186c2",
   "metadata": {},
   "source": [
    "Creating NumPy Arrays"
   ]
  },
  {
   "cell_type": "code",
   "execution_count": 6,
   "id": "574a02df",
   "metadata": {},
   "outputs": [],
   "source": [
    "import numpy as np"
   ]
  },
  {
   "cell_type": "code",
   "execution_count": 7,
   "id": "144f2700",
   "metadata": {},
   "outputs": [
    {
     "name": "stdout",
     "output_type": "stream",
     "text": [
      "[0 1 2 3 4 5 6 7 8 9] <class 'numpy.ndarray'>\n"
     ]
    }
   ],
   "source": [
    "arr = np.arange(10)\n",
    "print(arr, type(arr))"
   ]
  },
  {
   "cell_type": "code",
   "execution_count": 8,
   "id": "f6d222dd",
   "metadata": {},
   "outputs": [
    {
     "name": "stdout",
     "output_type": "stream",
     "text": [
      "[0 5 8 5 6 7] <class 'numpy.ndarray'>\n"
     ]
    }
   ],
   "source": [
    "arr1 = np.array([0, 5, 8, 5, 6, 7])\n",
    "print(arr1, type(arr1))"
   ]
  },
  {
   "cell_type": "code",
   "execution_count": 9,
   "id": "7545e44c",
   "metadata": {},
   "outputs": [
    {
     "name": "stdout",
     "output_type": "stream",
     "text": [
      "[0. 5. 8. 5. 6. 7.] <class 'numpy.ndarray'>\n"
     ]
    }
   ],
   "source": [
    "arr2 = np.array([0, 5.0, 8, 5, 6, 7])\n",
    "print(arr2, type(arr2))"
   ]
  },
  {
   "cell_type": "code",
   "execution_count": 10,
   "id": "2960bdfe",
   "metadata": {},
   "outputs": [
    {
     "data": {
      "text/plain": [
       "dtype('int32')"
      ]
     },
     "execution_count": 10,
     "metadata": {},
     "output_type": "execute_result"
    }
   ],
   "source": [
    "arr1.dtype"
   ]
  },
  {
   "cell_type": "code",
   "execution_count": 11,
   "id": "654472ee",
   "metadata": {},
   "outputs": [
    {
     "data": {
      "text/plain": [
       "dtype('float64')"
      ]
     },
     "execution_count": 11,
     "metadata": {},
     "output_type": "execute_result"
    }
   ],
   "source": [
    "arr2.dtype"
   ]
  },
  {
   "cell_type": "code",
   "execution_count": 12,
   "id": "15da9def",
   "metadata": {},
   "outputs": [
    {
     "data": {
      "text/plain": [
       "(6,)"
      ]
     },
     "execution_count": 12,
     "metadata": {},
     "output_type": "execute_result"
    }
   ],
   "source": [
    "arr2.shape"
   ]
  },
  {
   "cell_type": "code",
   "execution_count": 13,
   "id": "943fede9",
   "metadata": {},
   "outputs": [
    {
     "data": {
      "text/plain": [
       "1"
      ]
     },
     "execution_count": 13,
     "metadata": {},
     "output_type": "execute_result"
    }
   ],
   "source": [
    "arr2.ndim"
   ]
  },
  {
   "cell_type": "code",
   "execution_count": 14,
   "id": "92f7b0ba",
   "metadata": {},
   "outputs": [
    {
     "data": {
      "text/plain": [
       "6"
      ]
     },
     "execution_count": 14,
     "metadata": {},
     "output_type": "execute_result"
    }
   ],
   "source": [
    "arr2.size"
   ]
  },
  {
   "cell_type": "code",
   "execution_count": 15,
   "id": "93c47f5a",
   "metadata": {},
   "outputs": [],
   "source": [
    "arr2d = np.array([\n",
    "    [1, 2, 3, 4],\n",
    "    [5, 6, 7, 8],\n",
    "    [9, 0, 1, 2],\n",
    "    [3, 4, 5, 6]\n",
    "])"
   ]
  },
  {
   "cell_type": "code",
   "execution_count": 16,
   "id": "a9c6f031",
   "metadata": {},
   "outputs": [
    {
     "data": {
      "text/plain": [
       "2"
      ]
     },
     "execution_count": 16,
     "metadata": {},
     "output_type": "execute_result"
    }
   ],
   "source": [
    "arr2d.ndim"
   ]
  },
  {
   "cell_type": "code",
   "execution_count": 17,
   "id": "bf7c7958",
   "metadata": {},
   "outputs": [
    {
     "data": {
      "text/plain": [
       "(4, 4)"
      ]
     },
     "execution_count": 17,
     "metadata": {},
     "output_type": "execute_result"
    }
   ],
   "source": [
    "arr2d.shape"
   ]
  },
  {
   "cell_type": "code",
   "execution_count": 18,
   "id": "74f2f302",
   "metadata": {},
   "outputs": [
    {
     "data": {
      "text/plain": [
       "dtype('int32')"
      ]
     },
     "execution_count": 18,
     "metadata": {},
     "output_type": "execute_result"
    }
   ],
   "source": [
    "arr2d. dtype"
   ]
  },
  {
   "cell_type": "code",
   "execution_count": 19,
   "id": "9ea0cc6f",
   "metadata": {},
   "outputs": [],
   "source": [
    "arr3d = np.array([\n",
    "    [\n",
    "        [1, 2, 3],\n",
    "        [4, 5, 6]\n",
    "    ],\n",
    "    [\n",
    "        [7, 8, 9],\n",
    "        [0, 1, 2]\n",
    "    ]    \n",
    "])"
   ]
  },
  {
   "cell_type": "code",
   "execution_count": 20,
   "id": "818d21ff",
   "metadata": {},
   "outputs": [
    {
     "data": {
      "text/plain": [
       "3"
      ]
     },
     "execution_count": 20,
     "metadata": {},
     "output_type": "execute_result"
    }
   ],
   "source": [
    "arr3d.ndim"
   ]
  },
  {
   "cell_type": "code",
   "execution_count": 21,
   "id": "acd8c158",
   "metadata": {},
   "outputs": [
    {
     "data": {
      "text/plain": [
       "(2, 2, 3)"
      ]
     },
     "execution_count": 21,
     "metadata": {},
     "output_type": "execute_result"
    }
   ],
   "source": [
    "arr3d.shape"
   ]
  },
  {
   "cell_type": "code",
   "execution_count": 22,
   "id": "4fd7cdc2",
   "metadata": {},
   "outputs": [
    {
     "data": {
      "text/plain": [
       "12"
      ]
     },
     "execution_count": 22,
     "metadata": {},
     "output_type": "execute_result"
    }
   ],
   "source": [
    "arr3d.size"
   ]
  },
  {
   "cell_type": "markdown",
   "id": "34cc4351",
   "metadata": {},
   "source": [
    "Random using NumPy"
   ]
  },
  {
   "cell_type": "code",
   "execution_count": 23,
   "id": "beb54c4f",
   "metadata": {},
   "outputs": [
    {
     "data": {
      "text/plain": [
       "array([[0.7676832 , 0.46009877, 0.87781348, 0.29705132, 0.03029784],\n",
       "       [0.85815398, 0.35576377, 0.65735599, 0.36934669, 0.15051139],\n",
       "       [0.58521185, 0.60074333, 0.88540794, 0.60030512, 0.13099867]])"
      ]
     },
     "execution_count": 23,
     "metadata": {},
     "output_type": "execute_result"
    }
   ],
   "source": [
    "np.random.rand(3, 5)"
   ]
  },
  {
   "cell_type": "code",
   "execution_count": 24,
   "id": "fff812df",
   "metadata": {},
   "outputs": [
    {
     "data": {
      "text/plain": [
       "array([[-2.92054296,  0.48575702,  0.25192363, -0.47030292, -0.99901429],\n",
       "       [ 0.53677637, -0.18270297,  0.84733943, -1.26832627, -0.36432019],\n",
       "       [ 0.77252151, -1.16178163, -0.43363901, -0.92303584, -0.91597563]])"
      ]
     },
     "execution_count": 24,
     "metadata": {},
     "output_type": "execute_result"
    }
   ],
   "source": [
    "np.random.randn(3, 5)"
   ]
  },
  {
   "cell_type": "code",
   "execution_count": 25,
   "id": "247eedd8",
   "metadata": {},
   "outputs": [
    {
     "data": {
      "text/plain": [
       "array([[1, 8, 1, 3, 5],\n",
       "       [5, 5, 8, 1, 8],\n",
       "       [8, 4, 6, 3, 7]])"
      ]
     },
     "execution_count": 25,
     "metadata": {},
     "output_type": "execute_result"
    }
   ],
   "source": [
    "np.random.randint(1, 10, (3, 5))"
   ]
  },
  {
   "cell_type": "markdown",
   "id": "dc335dae",
   "metadata": {},
   "source": [
    "Indexing & Slicing"
   ]
  },
  {
   "cell_type": "code",
   "execution_count": 26,
   "id": "c5c9307a",
   "metadata": {},
   "outputs": [],
   "source": [
    "arr3d1 = np.array([\n",
    "    [\n",
    "        [1, 2, 3, 4, 5],\n",
    "        [4, 5, 6, 7, 8],\n",
    "        [8, 9, 10, 11, 12],\n",
    "        [12, 13, 14, 15, 16]\n",
    "    ],\n",
    "    [\n",
    "        [7, 8, 9, 10, 11],\n",
    "        [10, 11, 12, 13, 14],\n",
    "        [15, 16, 17, 18, 19],\n",
    "        [20, 21, 22, 23, 24]\n",
    "    ]    \n",
    "])"
   ]
  },
  {
   "cell_type": "code",
   "execution_count": 27,
   "id": "650a4449",
   "metadata": {},
   "outputs": [
    {
     "name": "stdout",
     "output_type": "stream",
     "text": [
      "(2, 4, 5)\n",
      "3\n"
     ]
    }
   ],
   "source": [
    "print(arr3d1.shape)\n",
    "print(arr3d1.ndim)"
   ]
  },
  {
   "cell_type": "code",
   "execution_count": 28,
   "id": "fec816a0",
   "metadata": {},
   "outputs": [
    {
     "ename": "IndexError",
     "evalue": "index 2 is out of bounds for axis 0 with size 2",
     "output_type": "error",
     "traceback": [
      "\u001b[1;31m---------------------------------------------------------------------------\u001b[0m",
      "\u001b[1;31mIndexError\u001b[0m                                Traceback (most recent call last)",
      "Cell \u001b[1;32mIn[28], line 1\u001b[0m\n\u001b[1;32m----> 1\u001b[0m arr3d1[\u001b[38;5;241m2\u001b[39m, \u001b[38;5;241m2\u001b[39m, \u001b[38;5;241m3\u001b[39m]\n",
      "\u001b[1;31mIndexError\u001b[0m: index 2 is out of bounds for axis 0 with size 2"
     ]
    }
   ],
   "source": [
    "arr3d1[2, 2, 3]"
   ]
  },
  {
   "cell_type": "code",
   "execution_count": 29,
   "id": "d3878212",
   "metadata": {},
   "outputs": [
    {
     "data": {
      "text/plain": [
       "18"
      ]
     },
     "execution_count": 29,
     "metadata": {},
     "output_type": "execute_result"
    }
   ],
   "source": [
    "arr3d1[1, 2, 3]"
   ]
  },
  {
   "cell_type": "code",
   "execution_count": 30,
   "id": "25e7c2eb",
   "metadata": {},
   "outputs": [
    {
     "data": {
      "text/plain": [
       "array([[[ 1,  2,  3,  4,  5],\n",
       "        [ 4,  5,  6,  7,  8],\n",
       "        [ 8,  9, 10, 11, 12],\n",
       "        [12, 13, 14, 15, 16]],\n",
       "\n",
       "       [[ 7,  8,  9, 10, 11],\n",
       "        [10, 11, 12, 13, 14],\n",
       "        [15, 16, 17, 18, 19],\n",
       "        [20, 21, 22, 23, 24]]])"
      ]
     },
     "execution_count": 30,
     "metadata": {},
     "output_type": "execute_result"
    }
   ],
   "source": [
    "arr3d1[:, :, :]"
   ]
  },
  {
   "cell_type": "code",
   "execution_count": 31,
   "id": "04c0dc8d",
   "metadata": {},
   "outputs": [
    {
     "data": {
      "text/plain": [
       "array([[ 3,  6, 10, 14],\n",
       "       [ 9, 12, 17, 22]])"
      ]
     },
     "execution_count": 31,
     "metadata": {},
     "output_type": "execute_result"
    }
   ],
   "source": [
    "arr3d1[:, :, 2]"
   ]
  },
  {
   "cell_type": "code",
   "execution_count": 32,
   "id": "a42e13ae",
   "metadata": {},
   "outputs": [
    {
     "data": {
      "text/plain": [
       "array([ 6, 12])"
      ]
     },
     "execution_count": 32,
     "metadata": {},
     "output_type": "execute_result"
    }
   ],
   "source": [
    "arr3d1[:, 1, 2]"
   ]
  },
  {
   "cell_type": "code",
   "execution_count": 33,
   "id": "ef1a476c",
   "metadata": {},
   "outputs": [
    {
     "ename": "IndexError",
     "evalue": "index 2 is out of bounds for axis 0 with size 2",
     "output_type": "error",
     "traceback": [
      "\u001b[1;31m---------------------------------------------------------------------------\u001b[0m",
      "\u001b[1;31mIndexError\u001b[0m                                Traceback (most recent call last)",
      "Cell \u001b[1;32mIn[33], line 1\u001b[0m\n\u001b[1;32m----> 1\u001b[0m arr3d1[\u001b[38;5;241m2\u001b[39m, \u001b[38;5;241m1\u001b[39m, \u001b[38;5;241m2\u001b[39m]\n",
      "\u001b[1;31mIndexError\u001b[0m: index 2 is out of bounds for axis 0 with size 2"
     ]
    }
   ],
   "source": [
    "arr3d1[2, 1, 2]"
   ]
  },
  {
   "cell_type": "code",
   "execution_count": 34,
   "id": "48c37ee5",
   "metadata": {},
   "outputs": [
    {
     "data": {
      "text/plain": [
       "array([[[ 1,  2,  3,  4,  5],\n",
       "        [ 4,  5,  6,  7,  8],\n",
       "        [ 8,  9, 10, 11, 12],\n",
       "        [12, 13, 14, 15, 16]],\n",
       "\n",
       "       [[ 7,  8,  9, 10, 11],\n",
       "        [10, 11, 12, 13, 14],\n",
       "        [15, 16, 17, 18, 19],\n",
       "        [20, 21, 22, 23, 24]]])"
      ]
     },
     "execution_count": 34,
     "metadata": {},
     "output_type": "execute_result"
    }
   ],
   "source": [
    "arr3d1[:, :, :]"
   ]
  },
  {
   "cell_type": "code",
   "execution_count": 35,
   "id": "eeb27f4a",
   "metadata": {},
   "outputs": [
    {
     "data": {
      "text/plain": [
       "array([12, 17])"
      ]
     },
     "execution_count": 35,
     "metadata": {},
     "output_type": "execute_result"
    }
   ],
   "source": [
    "arr3d1[1, 1:3, 2]"
   ]
  },
  {
   "cell_type": "code",
   "execution_count": 36,
   "id": "cb64b441",
   "metadata": {},
   "outputs": [
    {
     "data": {
      "text/plain": [
       "array([[12, 13],\n",
       "       [17, 18],\n",
       "       [22, 23]])"
      ]
     },
     "execution_count": 36,
     "metadata": {},
     "output_type": "execute_result"
    }
   ],
   "source": [
    "arr3d1[1, 1:, 2:4]"
   ]
  },
  {
   "cell_type": "markdown",
   "id": "41ddf394",
   "metadata": {},
   "source": [
    "Operations"
   ]
  },
  {
   "cell_type": "code",
   "execution_count": 37,
   "id": "235c78be",
   "metadata": {},
   "outputs": [],
   "source": [
    "arr4 = np.random.randn(4, 5)\n",
    "arr5 = np.random.randn(4, 5)"
   ]
  },
  {
   "cell_type": "code",
   "execution_count": 38,
   "id": "82d7f47c",
   "metadata": {},
   "outputs": [
    {
     "data": {
      "text/plain": [
       "array([[-0.53527975, -1.78283357, -0.5003469 , -1.14230207,  0.07529428],\n",
       "       [-1.30380391, -0.0023205 , -0.66087596,  0.26979893,  1.66388557],\n",
       "       [ 0.53000516,  0.28489333,  0.29683215,  0.93816911, -0.25557495],\n",
       "       [-0.61277338,  1.01147086, -0.21032478, -1.50742371,  2.16318998]])"
      ]
     },
     "execution_count": 38,
     "metadata": {},
     "output_type": "execute_result"
    }
   ],
   "source": [
    "arr4"
   ]
  },
  {
   "cell_type": "code",
   "execution_count": 39,
   "id": "6a45ec11",
   "metadata": {},
   "outputs": [
    {
     "data": {
      "text/plain": [
       "array([[-0.03530536, -0.97297597, -0.43083967, -1.6158943 ,  0.25213273],\n",
       "       [ 1.34704653, -0.33343745,  0.04856751, -0.80440874,  0.63010576],\n",
       "       [ 0.73713446, -0.12367808, -0.46256872, -1.01131171, -1.07183332],\n",
       "       [-0.19300616, -0.69320015, -1.90794079, -1.43112081, -0.08838073]])"
      ]
     },
     "execution_count": 39,
     "metadata": {},
     "output_type": "execute_result"
    }
   ],
   "source": [
    "arr5"
   ]
  },
  {
   "cell_type": "code",
   "execution_count": 40,
   "id": "899aee11",
   "metadata": {},
   "outputs": [
    {
     "data": {
      "text/plain": [
       "array([[-0.57058511, -2.75580954, -0.93118657, -2.75819637,  0.32742701],\n",
       "       [ 0.04324262, -0.33575795, -0.61230845, -0.53460981,  2.29399133],\n",
       "       [ 1.26713962,  0.16121526, -0.16573657, -0.07314261, -1.32740827],\n",
       "       [-0.80577954,  0.31827071, -2.11826557, -2.93854452,  2.07480925]])"
      ]
     },
     "execution_count": 40,
     "metadata": {},
     "output_type": "execute_result"
    }
   ],
   "source": [
    "arr4+arr5"
   ]
  },
  {
   "cell_type": "code",
   "execution_count": 41,
   "id": "0b18d2fd",
   "metadata": {},
   "outputs": [
    {
     "data": {
      "text/plain": [
       "array([[-0.49997438, -0.80985761, -0.06950723,  0.47359223, -0.17683845],\n",
       "       [-2.65085044,  0.33111695, -0.70944347,  1.07420766,  1.03377981],\n",
       "       [-0.20712929,  0.40857141,  0.75940087,  1.94948082,  0.81625836],\n",
       "       [-0.41976723,  1.70467101,  1.69761601, -0.0763029 ,  2.25157072]])"
      ]
     },
     "execution_count": 41,
     "metadata": {},
     "output_type": "execute_result"
    }
   ],
   "source": [
    "arr4-arr5"
   ]
  },
  {
   "cell_type": "code",
   "execution_count": 42,
   "id": "2cbd8191",
   "metadata": {},
   "outputs": [
    {
     "data": {
      "text/plain": [
       "array([[ 1.88982460e-02,  1.73465422e+00,  2.15569292e-01,\n",
       "         1.84583940e+00,  1.89841522e-02],\n",
       "       [-1.75628453e+00,  7.73742685e-04, -3.20971023e-02,\n",
       "        -2.17028615e-01,  1.04842389e+00],\n",
       "       [ 3.90685069e-01, -3.52350596e-02, -1.37305267e-01,\n",
       "        -9.48781410e-01,  2.73933750e-01],\n",
       "       [ 1.18269035e-01, -7.01151751e-01,  4.01287222e-01,\n",
       "         2.15730544e+00, -1.91184320e-01]])"
      ]
     },
     "execution_count": 42,
     "metadata": {},
     "output_type": "execute_result"
    }
   ],
   "source": [
    "arr4*arr5"
   ]
  },
  {
   "cell_type": "code",
   "execution_count": 43,
   "id": "426b3a09",
   "metadata": {},
   "outputs": [
    {
     "data": {
      "text/plain": [
       "array([[ 1.51614286e+01,  1.83235109e+00,  1.16132970e+00,\n",
       "         7.06916330e-01,  2.98629534e-01],\n",
       "       [-9.67898196e-01,  6.95933605e-03, -1.36073665e+01,\n",
       "        -3.35400295e-01,  2.64064490e+00],\n",
       "       [ 7.19007446e-01, -2.30350713e+00, -6.41703895e-01,\n",
       "        -9.27675508e-01,  2.38446547e-01],\n",
       "       [ 3.17489037e+00, -1.45913248e+00,  1.10236533e-01,\n",
       "         1.05331688e+00, -2.44758090e+01]])"
      ]
     },
     "execution_count": 43,
     "metadata": {},
     "output_type": "execute_result"
    }
   ],
   "source": [
    "arr4/arr5"
   ]
  },
  {
   "cell_type": "code",
   "execution_count": 44,
   "id": "44e89cbe",
   "metadata": {},
   "outputs": [
    {
     "data": {
      "text/plain": [
       "array([[0.58550547, 0.16816098, 0.60632029, 0.31908362, 1.0782014 ],\n",
       "       [0.27149708, 0.99768219, 0.51639879, 1.30970108, 5.27978601],\n",
       "       [1.69894108, 1.32962019, 1.34558942, 2.55529866, 0.77447109],\n",
       "       [0.54184604, 2.74964237, 0.81032103, 0.22147984, 8.6988426 ]])"
      ]
     },
     "execution_count": 44,
     "metadata": {},
     "output_type": "execute_result"
    }
   ],
   "source": [
    "np.exp(arr4)"
   ]
  },
  {
   "cell_type": "code",
   "execution_count": 45,
   "id": "f8458e36",
   "metadata": {},
   "outputs": [
    {
     "data": {
      "text/plain": [
       "array([[-0.51008168, -0.9776042 , -0.47972994, -0.90959242,  0.07522316],\n",
       "       [-0.96456875, -0.0023205 , -0.61380862,  0.26653764,  0.99567032],\n",
       "       [ 0.5055378 ,  0.28105509,  0.29249237,  0.80647691, -0.25280173],\n",
       "       [-0.57513845,  0.84761322, -0.20877753, -0.99799263,  0.82960656]])"
      ]
     },
     "execution_count": 45,
     "metadata": {},
     "output_type": "execute_result"
    }
   ],
   "source": [
    "np.sin(arr4)"
   ]
  },
  {
   "cell_type": "code",
   "execution_count": 46,
   "id": "d8c1c451",
   "metadata": {},
   "outputs": [
    {
     "name": "stderr",
     "output_type": "stream",
     "text": [
      "C:\\Users\\Rithik Raj\\AppData\\Local\\Temp\\ipykernel_7448\\3773399196.py:1: RuntimeWarning: invalid value encountered in log\n",
      "  np.log(arr4)\n"
     ]
    },
    {
     "data": {
      "text/plain": [
       "array([[        nan,         nan,         nan,         nan, -2.58635112],\n",
       "       [        nan,         nan,         nan, -1.31007831,  0.50915557],\n",
       "       [-0.63486853, -1.25564044, -1.21458846, -0.06382506,         nan],\n",
       "       [        nan,  0.01140557,         nan,         nan,  0.77158398]])"
      ]
     },
     "execution_count": 46,
     "metadata": {},
     "output_type": "execute_result"
    }
   ],
   "source": [
    "np.log(arr4)"
   ]
  },
  {
   "cell_type": "code",
   "execution_count": 47,
   "id": "646f3294",
   "metadata": {},
   "outputs": [
    {
     "data": {
      "text/plain": [
       "array([[ 0.86012597, -0.21045195,  0.8774162 ,  0.41550166,  0.99716672],\n",
       "       [ 0.26383162,  0.99999731,  0.78945486,  0.96382451, -0.09295486],\n",
       "       [ 0.86280446,  0.95969164,  0.95626786,  0.59126559,  0.96751811],\n",
       "       [ 0.81805609,  0.53061458,  0.97796316,  0.06333021, -0.55834841]])"
      ]
     },
     "execution_count": 47,
     "metadata": {},
     "output_type": "execute_result"
    }
   ],
   "source": [
    "np.cos(arr4)"
   ]
  },
  {
   "cell_type": "code",
   "execution_count": 48,
   "id": "5887b1b7",
   "metadata": {},
   "outputs": [],
   "source": [
    "arr4 = 1/arr4"
   ]
  },
  {
   "cell_type": "code",
   "execution_count": 49,
   "id": "6f8ac458",
   "metadata": {},
   "outputs": [
    {
     "data": {
      "text/plain": [
       "array([[  -1.86818203,   -0.56090485,   -1.99861336,   -0.87542519,\n",
       "          13.28122147],\n",
       "       [  -0.7669865 , -430.94100274,   -1.51314325,    3.70646396,\n",
       "           0.60100287],\n",
       "       [   1.88677407,    3.51008565,    3.36890732,    1.06590591,\n",
       "          -3.91274648],\n",
       "       [  -1.63192467,    0.98865923,   -4.75455156,   -0.66338349,\n",
       "           0.46228025]])"
      ]
     },
     "execution_count": 49,
     "metadata": {},
     "output_type": "execute_result"
    }
   ],
   "source": [
    "arr4"
   ]
  },
  {
   "cell_type": "code",
   "execution_count": 50,
   "id": "550bf694",
   "metadata": {},
   "outputs": [
    {
     "name": "stderr",
     "output_type": "stream",
     "text": [
      "C:\\Users\\Rithik Raj\\AppData\\Local\\Temp\\ipykernel_7448\\1976836952.py:1: RuntimeWarning: invalid value encountered in sqrt\n",
      "  np.sqrt(arr5)\n"
     ]
    },
    {
     "data": {
      "text/plain": [
       "array([[       nan,        nan,        nan,        nan, 0.5021282 ],\n",
       "       [1.16062334,        nan, 0.22038038,        nan, 0.79379201],\n",
       "       [0.85856535,        nan,        nan,        nan,        nan],\n",
       "       [       nan,        nan,        nan,        nan,        nan]])"
      ]
     },
     "execution_count": 50,
     "metadata": {},
     "output_type": "execute_result"
    }
   ],
   "source": [
    "np.sqrt(arr5)"
   ]
  },
  {
   "cell_type": "markdown",
   "id": "5855a434",
   "metadata": {},
   "source": [
    "Statistics using NumPy"
   ]
  },
  {
   "cell_type": "code",
   "execution_count": 51,
   "id": "e398b678",
   "metadata": {},
   "outputs": [],
   "source": [
    "arr6 = np.random.rand(100000,)"
   ]
  },
  {
   "cell_type": "code",
   "execution_count": 52,
   "id": "83cf3f75",
   "metadata": {},
   "outputs": [
    {
     "data": {
      "text/plain": [
       "array([0.27151574, 0.62115503, 0.28207671, ..., 0.40757511, 0.62155695,\n",
       "       0.02971667])"
      ]
     },
     "execution_count": 52,
     "metadata": {},
     "output_type": "execute_result"
    }
   ],
   "source": [
    "arr6"
   ]
  },
  {
   "cell_type": "code",
   "execution_count": 53,
   "id": "67d98190",
   "metadata": {},
   "outputs": [
    {
     "data": {
      "text/plain": [
       "0.9999991807499001"
      ]
     },
     "execution_count": 53,
     "metadata": {},
     "output_type": "execute_result"
    }
   ],
   "source": [
    "np.max(arr6)"
   ]
  },
  {
   "cell_type": "code",
   "execution_count": 54,
   "id": "63647144",
   "metadata": {},
   "outputs": [
    {
     "data": {
      "text/plain": [
       "2.107793427463811e-06"
      ]
     },
     "execution_count": 54,
     "metadata": {},
     "output_type": "execute_result"
    }
   ],
   "source": [
    "np.min(arr6)"
   ]
  },
  {
   "cell_type": "code",
   "execution_count": 55,
   "id": "d8a0598b",
   "metadata": {},
   "outputs": [
    {
     "name": "stdout",
     "output_type": "stream",
     "text": [
      "0.9999970729564727\n"
     ]
    }
   ],
   "source": [
    "range1 = max(arr6)-min(arr6)\n",
    "print(range1)"
   ]
  },
  {
   "cell_type": "code",
   "execution_count": 56,
   "id": "5380428c",
   "metadata": {},
   "outputs": [
    {
     "data": {
      "text/plain": [
       "0.4991157677849899"
      ]
     },
     "execution_count": 56,
     "metadata": {},
     "output_type": "execute_result"
    }
   ],
   "source": [
    "np.mean(arr6)"
   ]
  },
  {
   "cell_type": "code",
   "execution_count": 57,
   "id": "015d7424",
   "metadata": {},
   "outputs": [
    {
     "data": {
      "text/plain": [
       "0.49875030864245634"
      ]
     },
     "execution_count": 57,
     "metadata": {},
     "output_type": "execute_result"
    }
   ],
   "source": [
    "np.median(arr6)"
   ]
  },
  {
   "cell_type": "code",
   "execution_count": 58,
   "id": "03c123db",
   "metadata": {},
   "outputs": [
    {
     "data": {
      "text/plain": [
       "0.08333173912530781"
      ]
     },
     "execution_count": 58,
     "metadata": {},
     "output_type": "execute_result"
    }
   ],
   "source": [
    "np.var(arr6)"
   ]
  },
  {
   "cell_type": "code",
   "execution_count": 59,
   "id": "0adfbcf1",
   "metadata": {},
   "outputs": [
    {
     "data": {
      "text/plain": [
       "0.2886723733323087"
      ]
     },
     "execution_count": 59,
     "metadata": {},
     "output_type": "execute_result"
    }
   ],
   "source": [
    "np.std(arr6)"
   ]
  },
  {
   "cell_type": "code",
   "execution_count": 60,
   "id": "125e4039",
   "metadata": {},
   "outputs": [
    {
     "data": {
      "text/plain": [
       "0.49875030864245634"
      ]
     },
     "execution_count": 60,
     "metadata": {},
     "output_type": "execute_result"
    }
   ],
   "source": [
    "np.median(arr6)"
   ]
  },
  {
   "cell_type": "code",
   "execution_count": 61,
   "id": "a76b8ddf",
   "metadata": {},
   "outputs": [
    {
     "data": {
      "text/plain": [
       "0.24886909522085235"
      ]
     },
     "execution_count": 61,
     "metadata": {},
     "output_type": "execute_result"
    }
   ],
   "source": [
    "np.percentile(arr6, 25)"
   ]
  },
  {
   "cell_type": "code",
   "execution_count": 62,
   "id": "d195d97c",
   "metadata": {},
   "outputs": [
    {
     "data": {
      "text/plain": [
       "0.49875030864245634"
      ]
     },
     "execution_count": 62,
     "metadata": {},
     "output_type": "execute_result"
    }
   ],
   "source": [
    "np.percentile(arr6, 50)"
   ]
  },
  {
   "cell_type": "code",
   "execution_count": 63,
   "id": "78a6f2ff",
   "metadata": {},
   "outputs": [
    {
     "data": {
      "text/plain": [
       "0.749457057926241"
      ]
     },
     "execution_count": 63,
     "metadata": {},
     "output_type": "execute_result"
    }
   ],
   "source": [
    "np.percentile(arr6, 75)"
   ]
  },
  {
   "cell_type": "code",
   "execution_count": 64,
   "id": "45f907fb",
   "metadata": {},
   "outputs": [
    {
     "name": "stdout",
     "output_type": "stream",
     "text": [
      "0.5005879627053886\n"
     ]
    }
   ],
   "source": [
    "IQR = np.percentile(arr6, 75) - np.percentile(arr6, 25)\n",
    "print(IQR)"
   ]
  },
  {
   "cell_type": "code",
   "execution_count": 65,
   "id": "021b341b",
   "metadata": {},
   "outputs": [],
   "source": [
    "from scipy import stats"
   ]
  },
  {
   "cell_type": "code",
   "execution_count": 66,
   "id": "2f3e4805",
   "metadata": {},
   "outputs": [
    {
     "data": {
      "text/plain": [
       "ModeResult(mode=2.107793427463811e-06, count=1)"
      ]
     },
     "execution_count": 66,
     "metadata": {},
     "output_type": "execute_result"
    }
   ],
   "source": [
    "stats.mode(arr6)"
   ]
  },
  {
   "cell_type": "code",
   "execution_count": 67,
   "id": "c7715062",
   "metadata": {},
   "outputs": [
    {
     "name": "stdout",
     "output_type": "stream",
     "text": [
      "0.005547994307213375\n",
      "-1.1973421699494546\n"
     ]
    }
   ],
   "source": [
    "from scipy.stats import skew, kurtosis\n",
    "\n",
    "skewness=skew(arr6)\n",
    "kurt=kurtosis(arr6)\n",
    "\n",
    "print(skewness)\n",
    "print(kurt)"
   ]
  },
  {
   "cell_type": "code",
   "execution_count": 68,
   "id": "447d3529",
   "metadata": {},
   "outputs": [
    {
     "name": "stdout",
     "output_type": "stream",
     "text": [
      "PearsonRResult(statistic=0.9999999999999982, pvalue=0.0)\n"
     ]
    }
   ],
   "source": [
    "from scipy.stats import pearsonr\n",
    "\n",
    "cor = pearsonr(arr6, arr6)\n",
    "print(cor)"
   ]
  },
  {
   "cell_type": "code",
   "execution_count": 69,
   "id": "4f43c770",
   "metadata": {},
   "outputs": [
    {
     "name": "stdout",
     "output_type": "stream",
     "text": [
      "Accept Null Hypothesis\n"
     ]
    }
   ],
   "source": [
    "from scipy.stats import ttest_ind\n",
    "\n",
    "a = [12, 15, 19, 16, 25, 22]\n",
    "b = [14, 18, 15, 20, 26, 21]\n",
    "\n",
    "t_test, p_value = ttest_ind(a, b)\n",
    "\n",
    "if p_value < 0.05 :\n",
    "    print('Reject Null Hypothesis')\n",
    "else :\n",
    "    print('Accept Null Hypothesis')"
   ]
  },
  {
   "cell_type": "code",
   "execution_count": 70,
   "id": "1e4b33a4",
   "metadata": {},
   "outputs": [
    {
     "name": "stdout",
     "output_type": "stream",
     "text": [
      "Accept Null Hypothesis\n"
     ]
    }
   ],
   "source": [
    "from scipy.stats import f_oneway\n",
    "\n",
    "a = [12, 15, 19, 16, 25, 22]\n",
    "b = [14, 18, 15, 20, 26, 21]\n",
    "\n",
    "f_test, p_value = f_oneway(a, b)\n",
    "\n",
    "if p_value < 0.05 :\n",
    "    print('Reject Null Hypothesis')\n",
    "else :\n",
    "    print('Accept Null Hypothesis')"
   ]
  },
  {
   "cell_type": "code",
   "execution_count": 71,
   "id": "e772ac21",
   "metadata": {},
   "outputs": [
    {
     "name": "stdout",
     "output_type": "stream",
     "text": [
      "0.8413447460685429\n"
     ]
    }
   ],
   "source": [
    "from scipy.stats import norm\n",
    "\n",
    "mu = 0\n",
    "sigma = 1\n",
    "\n",
    "probab = norm.cdf(1, loc=mu, scale=sigma)\n",
    "print(probab)"
   ]
  },
  {
   "cell_type": "code",
   "execution_count": 81,
   "id": "b31be48b",
   "metadata": {},
   "outputs": [
    {
     "data": {
      "image/png": "[encoded data removed]",
      "text/plain": [
       "<Figure size 640x480 with 1 Axes>"
      ]
     },
     "metadata": {},
     "output_type": "display_data"
    }
   ],
   "source": [
    "from scipy.stats import norm\n",
    "import matplotlib.pyplot as plt\n",
    "\n",
    "mu = 0\n",
    "sigma = 1\n",
    "probab = norm.rvs(loc=mu, scale=sigma, size=1000)\n",
    "\n",
    "plt.hist(probab, bins=30, density=True)\n",
    "plt.show()"
   ]
  },
  {
   "cell_type": "code",
   "execution_count": 83,
   "id": "7dc0d7cd",
   "metadata": {},
   "outputs": [
    {
     "data": {
      "image/png": "[encoded data removed]",
      "text/plain": [
       "<Figure size 640x480 with 1 Axes>"
      ]
     },
     "metadata": {},
     "output_type": "display_data"
    }
   ],
   "source": [
    "from scipy.stats import uniform\n",
    "import numpy as np\n",
    "import matplotlib.pyplot as plt\n",
    "\n",
    "lower = 0\n",
    "upper = 1\n",
    "probab = np.random.uniform(lower, upper, size=1000)\n",
    "\n",
    "plt.hist(probab, bins=30, density=True)\n",
    "plt.show()"
   ]
  },
  {
   "cell_type": "code",
   "execution_count": 88,
   "id": "b363770d",
   "metadata": {},
   "outputs": [
    {
     "data": {
      "image/png": "[encoded data removed]",
      "text/plain": [
       "<Figure size 640x480 with 1 Axes>"
      ]
     },
     "metadata": {},
     "output_type": "display_data"
    }
   ],
   "source": [
    "rate = 0.5\n",
    "probab = np.random.exponential(scale=1/rate, size=1000)\n",
    "\n",
    "plt.hist(probab, bins=40, density=True)\n",
    "plt.xlabel('Values')\n",
    "plt.ylabel('Probability')\n",
    "plt.title('Exponential Distribution')\n",
    "plt.show()"
   ]
  },
  {
   "cell_type": "code",
   "execution_count": 96,
   "id": "755607a0",
   "metadata": {},
   "outputs": [
    {
     "data": {
      "image/png": "[encoded data removed]",
      "text/plain": [
       "<Figure size 640x480 with 1 Axes>"
      ]
     },
     "metadata": {},
     "output_type": "display_data"
    }
   ],
   "source": [
    "rate = 2\n",
    "probab = np.random.poisson(rate, size=1000)\n",
    "\n",
    "plt.hist(probab, bins=30, density=True)\n",
    "plt.xlabel('Values')\n",
    "plt.ylabel('Probability')\n",
    "plt.title('Poissons Distribution')\n",
    "plt.show()"
   ]
  },
  {
   "cell_type": "code",
   "execution_count": 105,
   "id": "72f99de4",
   "metadata": {},
   "outputs": [
    {
     "data": {
      "image/png": "[encoded data removed]",
      "text/plain": [
       "<Figure size 640x480 with 1 Axes>"
      ]
     },
     "metadata": {},
     "output_type": "display_data"
    }
   ],
   "source": [
    "p = 0.5\n",
    "probab = stats.bernoulli.rvs(p, size=1000)\n",
    "\n",
    "plt.hist(probab, bins=3, density=True)\n",
    "plt.xlabel('Outcome')\n",
    "plt.ylabel('Probability')\n",
    "plt.title('Bernoulli Distribution')\n",
    "plt.show()"
   ]
  },
  {
   "cell_type": "code",
   "execution_count": 106,
   "id": "41ce0874",
   "metadata": {},
   "outputs": [],
   "source": [
    "import numpy as np"
   ]
  },
  {
   "cell_type": "code",
   "execution_count": 109,
   "id": "332fea66",
   "metadata": {},
   "outputs": [],
   "source": [
    "data = np.loadtxt('C:/Users/Rithik Raj/Desktop/Imarticus/WD/PGA WD 24/3. NumPy/Dataset/cric_data.tsv', skiprows=1)"
   ]
  },
  {
   "cell_type": "code",
   "execution_count": 110,
   "id": "c68e3311",
   "metadata": {
    "scrolled": false
   },
   "outputs": [
    {
     "data": {
      "text/plain": [
       "array([[  0., 100.,  78., 342.],\n",
       "       [  1.,  11.,  62., 191.],\n",
       "       [  2.,   8.,  85., 252.],\n",
       "       [  3.,  71.,  24., 307.],\n",
       "       [  4., 104.,  17., 229.],\n",
       "       [  5.,  18., 104., 246.],\n",
       "       [  6.,   8.,  76., 226.],\n",
       "       [  7.,  86.,  74., 288.],\n",
       "       [  8.,  12.,  60., 216.],\n",
       "       [  9.,  85.,  12., 224.],\n",
       "       [ 10.,  18.,  63., 161.],\n",
       "       [ 11.,   4., 107., 276.],\n",
       "       [ 12.,   7.,  76., 283.],\n",
       "       [ 13.,  37.,   4., 297.],\n",
       "       [ 14.,  14.,   5., 139.],\n",
       "       [ 15.,   0.,  33., 224.],\n",
       "       [ 16.,   4.,   7., 178.],\n",
       "       [ 17.,   0.,   0.,   0.],\n",
       "       [ 18.,  21.,  36., 193.],\n",
       "       [ 19.,   1.,  66., 231.],\n",
       "       [ 20.,  62.,   0., 134.],\n",
       "       [ 21.,   0., 123., 246.],\n",
       "       [ 22., 138.,  39., 299.],\n",
       "       [ 23.,  38.,   9., 242.],\n",
       "       [ 24.,   2.,  11., 214.],\n",
       "       [ 25.,  46.,  14., 152.],\n",
       "       [ 26.,  65.,   0., 104.],\n",
       "       [ 27.,   0.,   0.,   4.],\n",
       "       [ 28.,  39.,  26., 155.],\n",
       "       [ 29.,  48.,   4., 168.],\n",
       "       [ 30., 141.,  48., 282.],\n",
       "       [ 31.,  62.,   7., 228.],\n",
       "       [ 32.,  12.,  73., 231.],\n",
       "       [ 33.,   1.,  86., 238.],\n",
       "       [ 34.,  41.,  32., 255.],\n",
       "       [ 35.,  11.,  82., 273.],\n",
       "       [ 36.,   3.,  25., 143.],\n",
       "       [ 37., 186., 153., 345.],\n",
       "       [ 38.,  11.,  26., 134.],\n",
       "       [ 39.,  27.,   1., 292.],\n",
       "       [ 40.,  27.,   6., 299.],\n",
       "       [ 41.,  51.,   3., 233.],\n",
       "       [ 42.,  18.,   1., 332.],\n",
       "       [ 43.,  32.,  39., 276.],\n",
       "       [ 44., 146.,  30., 264.],\n",
       "       [ 45.,   5.,  32., 213.],\n",
       "       [ 46.,  45.,  84., 224.],\n",
       "       [ 47., 141.,  36., 306.],\n",
       "       [ 48.,  12.,  31., 259.],\n",
       "       [ 49.,  65.,   0., 141.],\n",
       "       [ 50.,  27.,  47., 155.],\n",
       "       [ 51.,   7.,  13., 183.],\n",
       "       [ 52.,  16.,  49., 309.],\n",
       "       [ 53.,   2.,  28., 208.],\n",
       "       [ 54.,  28.,   0., 124.],\n",
       "       [ 55.,   6.,  28., 208.],\n",
       "       [ 56., 123.,  19., 305.],\n",
       "       [ 57., 120.,  13., 273.],\n",
       "       [ 58.,   7.,  14., 186.],\n",
       "       [ 59.,   3.,  11., 163.],\n",
       "       [ 60.,   0., 103., 239.],\n",
       "       [ 61.,  81.,  43., 274.],\n",
       "       [ 62.,   2.,   5., 182.],\n",
       "       [ 63.,  54.,   5., 256.],\n",
       "       [ 64., 122.,  15., 227.],\n",
       "       [ 65.,   4.,   0., 157.],\n",
       "       [ 66.,  14.,   5., 353.],\n",
       "       [ 67.,   0.,  30., 271.],\n",
       "       [ 68., 100.,   4., 211.],\n",
       "       [ 69.,  15.,  53., 141.],\n",
       "       [ 70.,   0.,  60., 243.],\n",
       "       [ 71.,  57.,   7., 499.],\n",
       "       [ 72.,  99.,  74., 229.],\n",
       "       [ 73.,  37.,  71., 234.],\n",
       "       [ 74.,  38.,  54., 259.],\n",
       "       [ 75.,  32.,  13., 242.],\n",
       "       [ 76.,  21.,  69., 223.],\n",
       "       [ 77.,  32.,  33., 184.],\n",
       "       [ 78.,  40.,  29., 125.],\n",
       "       [ 79.,   0.,   2., 195.],\n",
       "       [ 80.,   5.,   8., 154.],\n",
       "       [ 81.,   8.,  36., 142.],\n",
       "       [ 82.,   5.,  51., 197.],\n",
       "       [ 83.,   0.,   8., 213.],\n",
       "       [ 84.,  50.,  62., 256.],\n",
       "       [ 85.,  30.,   0., 197.],\n",
       "       [ 86.,  37.,  22., 177.],\n",
       "       [ 87.,  89.,  39., 167.],\n",
       "       [ 88.,   4., 104., 366.],\n",
       "       [ 89.,  98.,  44., 269.],\n",
       "       [ 90.,  83.,   1., 292.],\n",
       "       [ 91.,  93.,   2., 218.],\n",
       "       [ 92.,   0.,   0.,   0.],\n",
       "       [ 93.,  52.,  17., 199.],\n",
       "       [ 94., 152.,   0., 319.],\n",
       "       [ 95.,   1.,  14., 245.],\n",
       "       [ 96.,   8.,  62., 274.],\n",
       "       [ 97.,  93.,  15., 208.],\n",
       "       [ 98.,  45.,  68., 201.],\n",
       "       [ 99.,  26.,  17., 275.],\n",
       "       [100.,   0.,   0., 134.],\n",
       "       [101.,   1.,  22.,  68.],\n",
       "       [102.,   0.,  25., 149.],\n",
       "       [103.,  16.,  29., 216.],\n",
       "       [104.,  47.,  60., 407.],\n",
       "       [105.,  89.,  34., 302.],\n",
       "       [106.,   3.,  65., 197.],\n",
       "       [107.,   1.,   3., 222.],\n",
       "       [108.,  53.,   7., 224.],\n",
       "       [109.,  16.,  16., 321.],\n",
       "       [110.,   0.,   0.,   0.],\n",
       "       [111.,  81.,   4., 162.],\n",
       "       [112.,  14.,  53., 221.],\n",
       "       [113.,  78.,   5., 204.],\n",
       "       [114.,   6.,  23., 213.],\n",
       "       [115., 105.,  82., 286.],\n",
       "       [116., 122.,   3., 272.],\n",
       "       [117.,   9.,   0., 382.],\n",
       "       [118.,   8.,  20., 229.],\n",
       "       [119.,  28.,  21., 175.],\n",
       "       [120.,  35.,  80., 360.],\n",
       "       [121.,  69.,  22., 256.],\n",
       "       [122.,  13.,   8., 165.],\n",
       "       [123.,  97.,  18., 335.],\n",
       "       [124.,  93.,  24., 188.],\n",
       "       [125.,   2.,  50., 146.],\n",
       "       [126.,  36.,   1., 113.],\n",
       "       [127.,  39.,  42., 241.],\n",
       "       [128.,   2.,  61., 211.],\n",
       "       [129.,  29.,   0., 225.],\n",
       "       [130.,  12.,   6.,  35.],\n",
       "       [131.,  19.,  64., 163.],\n",
       "       [132.,  34.,   9., 200.],\n",
       "       [133.,   2.,  46., 176.],\n",
       "       [134., 100.,   0., 269.],\n",
       "       [135.,  44.,   0., 284.],\n",
       "       [136.,  82.,   0., 175.],\n",
       "       [137.,   0.,   0.,  27.],\n",
       "       [138.,  79.,  13., 282.],\n",
       "       [139.,   6.,   0., 141.],\n",
       "       [140.,   9.,  72., 229.],\n",
       "       [141.,   8.,  12., 213.],\n",
       "       [142.,  23.,  38., 205.],\n",
       "       [143.,  93.,  79., 279.],\n",
       "       [144.,  35.,  18.,  88.],\n",
       "       [145.,  63.,  16., 284.],\n",
       "       [146.,  74.,  16., 207.],\n",
       "       [147.,   8.,  56., 224.],\n",
       "       [148., 117.,  21., 204.],\n",
       "       [149.,  39.,  58., 280.],\n",
       "       [150.,  49.,   8., 197.],\n",
       "       [151.,  64.,   0., 205.],\n",
       "       [152.,  43.,   0., 230.],\n",
       "       [153.,  72.,   7., 323.],\n",
       "       [154.,   5.,  13., 209.],\n",
       "       [155.,  17.,  77., 210.],\n",
       "       [156.,   0.,  29., 162.],\n",
       "       [157.,  65.,  20., 272.],\n",
       "       [158.,  20.,  90., 251.],\n",
       "       [159., 141.,  26., 286.],\n",
       "       [160.,  28.,  54., 228.],\n",
       "       [161.,  44.,  17., 148.],\n",
       "       [162.,  27.,  78., 272.],\n",
       "       [163.,  60.,  57., 309.],\n",
       "       [164.,  68.,  59., 202.],\n",
       "       [165.,   3.,  10., 136.],\n",
       "       [166., 139.,  15., 281.],\n",
       "       [167.,  31.,  54., 314.],\n",
       "       [168.,   2.,  52., 419.],\n",
       "       [169.,  44.,   9., 229.],\n",
       "       [170.,  47.,   0., 133.],\n",
       "       [171.,   6.,  18., 228.],\n",
       "       [172.,  17.,   3., 143.],\n",
       "       [173.,  35.,   4., 116.],\n",
       "       [174.,  88.,   6., 194.],\n",
       "       [175., 114.,  16., 249.],\n",
       "       [176.,   7.,  71., 319.],\n",
       "       [177., 127.,  64., 205.],\n",
       "       [178.,   0.,   7., 191.],\n",
       "       [179.,  45.,  61., 213.],\n",
       "       [180.,  33.,   1., 104.],\n",
       "       [181., 110.,   7., 210.],\n",
       "       [182., 146.,   0., 392.],\n",
       "       [183.,   7.,   0.,  57.],\n",
       "       [184.,  25.,  26., 213.],\n",
       "       [185.,   9.,  19., 158.],\n",
       "       [186.,   2.,  63., 163.],\n",
       "       [187.,  11.,   3., 166.],\n",
       "       [188.,  17.,  46., 164.],\n",
       "       [189.,  14.,  31., 238.],\n",
       "       [190.,   1.,  12., 118.],\n",
       "       [191.,  45.,  49., 189.],\n",
       "       [192.,  94.,   4., 346.],\n",
       "       [193.,  28.,  99., 390.],\n",
       "       [194.,   4.,  47., 319.],\n",
       "       [195.,  62.,  56., 276.],\n",
       "       [196.,   1.,  73., 324.],\n",
       "       [197.,   9.,  74., 213.],\n",
       "       [198.,  67.,  31., 207.],\n",
       "       [199.,  10.,  29., 158.],\n",
       "       [200.,  99.,  92., 304.],\n",
       "       [201.,  55.,   1., 199.],\n",
       "       [202.,   0.,   0.,   0.],\n",
       "       [203.,   1.,  30., 195.],\n",
       "       [204., 101.,  16., 207.],\n",
       "       [205.,   2., 145., 352.],\n",
       "       [206.,   1.,  22., 225.],\n",
       "       [207.,  16.,  31., 236.],\n",
       "       [208., 140., 104., 301.],\n",
       "       [209.,  23.,  20., 136.],\n",
       "       [210., 113.,  13., 327.],\n",
       "       [211.,  10.,  52., 296.],\n",
       "       [212.,   1.,  31., 176.],\n",
       "       [213.,  41.,  12., 201.],\n",
       "       [214.,   1.,  50., 171.],\n",
       "       [215.,  28.,   3., 191.],\n",
       "       [216.,   2.,   9.,  11.],\n",
       "       [217.,  22.,  53., 211.],\n",
       "       [218.,  29.,  49., 225.],\n",
       "       [219.,   1.,  21., 290.],\n",
       "       [220.,  25.,  14., 101.],\n",
       "       [221., 102.,  50., 470.],\n",
       "       [222.,   0.,  22., 165.],\n",
       "       [223.,  27.,   0., 192.],\n",
       "       [224.,  40.,   0., 213.]])"
      ]
     },
     "execution_count": 110,
     "metadata": {},
     "output_type": "execute_result"
    }
   ],
   "source": [
    "data"
   ]
  },
  {
   "cell_type": "code",
   "execution_count": null,
   "id": "915e7d69",
   "metadata": {},
   "outputs": [],
   "source": []
  }
 ],
 "metadata": {
  "kernelspec": {
   "display_name": "Python 3 (ipykernel)",
   "language": "python",
   "name": "python3"
  },
  "language_info": {
   "codemirror_mode": {
    "name": "ipython",
    "version": 3
   },
   "file_extension": ".py",
   "mimetype": "text/x-python",
   "name": "python",
   "nbconvert_exporter": "python",
   "pygments_lexer": "ipython3",
   "version": "3.11.5"
  }
 },
 "nbformat": 4,
 "nbformat_minor": 5
}
